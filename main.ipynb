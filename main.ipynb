{
 "cells": [
  {
   "cell_type": "code",
   "execution_count": 144,
   "id": "9abafb1f-8f62-4421-bfd6-635eaf5c666f",
   "metadata": {},
   "outputs": [],
   "source": [
    "import numpy as np\n",
    "import pandas as pd\n",
    "import matplotlib.pyplot as plt\n"
   ]
  },
  {
   "cell_type": "code",
   "execution_count": 145,
   "id": "a298c340-b5b5-4d8b-a3f4-0f53e461fc98",
   "metadata": {},
   "outputs": [
    {
     "data": {
      "text/html": [
       "<div>\n",
       "<style scoped>\n",
       "    .dataframe tbody tr th:only-of-type {\n",
       "        vertical-align: middle;\n",
       "    }\n",
       "\n",
       "    .dataframe tbody tr th {\n",
       "        vertical-align: top;\n",
       "    }\n",
       "\n",
       "    .dataframe thead th {\n",
       "        text-align: right;\n",
       "    }\n",
       "</style>\n",
       "<table border=\"1\" class=\"dataframe\">\n",
       "  <thead>\n",
       "    <tr style=\"text-align: right;\">\n",
       "      <th></th>\n",
       "      <th>artist</th>\n",
       "      <th>song</th>\n",
       "      <th>link</th>\n",
       "      <th>text</th>\n",
       "    </tr>\n",
       "  </thead>\n",
       "  <tbody>\n",
       "    <tr>\n",
       "      <th>0</th>\n",
       "      <td>ABBA</td>\n",
       "      <td>Ahe's My Kind Of Girl</td>\n",
       "      <td>/a/abba/ahes+my+kind+of+girl_20598417.html</td>\n",
       "      <td>Look at her face, it's a wonderful face  \\r\\nA...</td>\n",
       "    </tr>\n",
       "    <tr>\n",
       "      <th>1</th>\n",
       "      <td>ABBA</td>\n",
       "      <td>Andante, Andante</td>\n",
       "      <td>/a/abba/andante+andante_20002708.html</td>\n",
       "      <td>Take it easy with me, please  \\r\\nTouch me gen...</td>\n",
       "    </tr>\n",
       "    <tr>\n",
       "      <th>2</th>\n",
       "      <td>ABBA</td>\n",
       "      <td>As Good As New</td>\n",
       "      <td>/a/abba/as+good+as+new_20003033.html</td>\n",
       "      <td>I'll never know why I had to go  \\r\\nWhy I had...</td>\n",
       "    </tr>\n",
       "  </tbody>\n",
       "</table>\n",
       "</div>"
      ],
      "text/plain": [
       "  artist                   song                                        link  \\\n",
       "0   ABBA  Ahe's My Kind Of Girl  /a/abba/ahes+my+kind+of+girl_20598417.html   \n",
       "1   ABBA       Andante, Andante       /a/abba/andante+andante_20002708.html   \n",
       "2   ABBA         As Good As New        /a/abba/as+good+as+new_20003033.html   \n",
       "\n",
       "                                                text  \n",
       "0  Look at her face, it's a wonderful face  \\r\\nA...  \n",
       "1  Take it easy with me, please  \\r\\nTouch me gen...  \n",
       "2  I'll never know why I had to go  \\r\\nWhy I had...  "
      ]
     },
     "execution_count": 145,
     "metadata": {},
     "output_type": "execute_result"
    }
   ],
   "source": [
    "s_data = pd.read_csv('spotify_millsongdata.csv')\n",
    "s_data.head(3)"
   ]
  },
  {
   "cell_type": "code",
   "execution_count": 146,
   "id": "04045fe0-67a7-4b63-a22b-46f305135b07",
   "metadata": {},
   "outputs": [
    {
     "data": {
      "text/plain": [
       "(57650, 4)"
      ]
     },
     "execution_count": 146,
     "metadata": {},
     "output_type": "execute_result"
    }
   ],
   "source": [
    "s_data.shape"
   ]
  },
  {
   "cell_type": "code",
   "execution_count": 147,
   "id": "5c39eece-6be4-4e45-b6b6-8c62a85dabba",
   "metadata": {},
   "outputs": [
    {
     "data": {
      "text/plain": [
       "artist    0\n",
       "song      0\n",
       "link      0\n",
       "text      0\n",
       "dtype: int64"
      ]
     },
     "execution_count": 147,
     "metadata": {},
     "output_type": "execute_result"
    }
   ],
   "source": [
    "s_data.isnull().sum()"
   ]
  },
  {
   "cell_type": "code",
   "execution_count": 148,
   "id": "18619993-c19a-4bb4-8a86-9305157b3653",
   "metadata": {},
   "outputs": [
    {
     "data": {
      "text/html": [
       "<div>\n",
       "<style scoped>\n",
       "    .dataframe tbody tr th:only-of-type {\n",
       "        vertical-align: middle;\n",
       "    }\n",
       "\n",
       "    .dataframe tbody tr th {\n",
       "        vertical-align: top;\n",
       "    }\n",
       "\n",
       "    .dataframe thead th {\n",
       "        text-align: right;\n",
       "    }\n",
       "</style>\n",
       "<table border=\"1\" class=\"dataframe\">\n",
       "  <thead>\n",
       "    <tr style=\"text-align: right;\">\n",
       "      <th></th>\n",
       "      <th>artist</th>\n",
       "      <th>song</th>\n",
       "      <th>link</th>\n",
       "      <th>text</th>\n",
       "    </tr>\n",
       "  </thead>\n",
       "  <tbody>\n",
       "    <tr>\n",
       "      <th>count</th>\n",
       "      <td>57650</td>\n",
       "      <td>57650</td>\n",
       "      <td>57650</td>\n",
       "      <td>57650</td>\n",
       "    </tr>\n",
       "    <tr>\n",
       "      <th>unique</th>\n",
       "      <td>643</td>\n",
       "      <td>44824</td>\n",
       "      <td>57650</td>\n",
       "      <td>57494</td>\n",
       "    </tr>\n",
       "    <tr>\n",
       "      <th>top</th>\n",
       "      <td>Donna Summer</td>\n",
       "      <td>Have Yourself A Merry Little Christmas</td>\n",
       "      <td>/a/abba/ahes+my+kind+of+girl_20598417.html</td>\n",
       "      <td>I just came back from a lovely trip along the ...</td>\n",
       "    </tr>\n",
       "    <tr>\n",
       "      <th>freq</th>\n",
       "      <td>191</td>\n",
       "      <td>35</td>\n",
       "      <td>1</td>\n",
       "      <td>6</td>\n",
       "    </tr>\n",
       "  </tbody>\n",
       "</table>\n",
       "</div>"
      ],
      "text/plain": [
       "              artist                                    song  \\\n",
       "count          57650                                   57650   \n",
       "unique           643                                   44824   \n",
       "top     Donna Summer  Have Yourself A Merry Little Christmas   \n",
       "freq             191                                      35   \n",
       "\n",
       "                                              link  \\\n",
       "count                                        57650   \n",
       "unique                                       57650   \n",
       "top     /a/abba/ahes+my+kind+of+girl_20598417.html   \n",
       "freq                                             1   \n",
       "\n",
       "                                                     text  \n",
       "count                                               57650  \n",
       "unique                                              57494  \n",
       "top     I just came back from a lovely trip along the ...  \n",
       "freq                                                    6  "
      ]
     },
     "execution_count": 148,
     "metadata": {},
     "output_type": "execute_result"
    }
   ],
   "source": [
    "s_data.describe()"
   ]
  },
  {
   "cell_type": "code",
   "execution_count": 149,
   "id": "d3ec3c7c-eb40-4b9a-a133-2aaecdf76735",
   "metadata": {},
   "outputs": [
    {
     "name": "stdout",
     "output_type": "stream",
     "text": [
      "<class 'pandas.core.frame.DataFrame'>\n",
      "RangeIndex: 57650 entries, 0 to 57649\n",
      "Data columns (total 4 columns):\n",
      " #   Column  Non-Null Count  Dtype \n",
      "---  ------  --------------  ----- \n",
      " 0   artist  57650 non-null  object\n",
      " 1   song    57650 non-null  object\n",
      " 2   link    57650 non-null  object\n",
      " 3   text    57650 non-null  object\n",
      "dtypes: object(4)\n",
      "memory usage: 1.8+ MB\n"
     ]
    }
   ],
   "source": [
    "s_data.info()"
   ]
  },
  {
   "cell_type": "code",
   "execution_count": 150,
   "id": "930992aa-d1fb-4f3d-bace-040ef73e6198",
   "metadata": {},
   "outputs": [],
   "source": [
    "s_data = s_data.sample(5000).drop('link',axis=1).reset_index(drop=True)"
   ]
  },
  {
   "cell_type": "code",
   "execution_count": 151,
   "id": "e3182a0f-a83e-4a7c-b7f5-329c749ebe67",
   "metadata": {},
   "outputs": [
    {
     "data": {
      "text/html": [
       "<div>\n",
       "<style scoped>\n",
       "    .dataframe tbody tr th:only-of-type {\n",
       "        vertical-align: middle;\n",
       "    }\n",
       "\n",
       "    .dataframe tbody tr th {\n",
       "        vertical-align: top;\n",
       "    }\n",
       "\n",
       "    .dataframe thead th {\n",
       "        text-align: right;\n",
       "    }\n",
       "</style>\n",
       "<table border=\"1\" class=\"dataframe\">\n",
       "  <thead>\n",
       "    <tr style=\"text-align: right;\">\n",
       "      <th></th>\n",
       "      <th>artist</th>\n",
       "      <th>song</th>\n",
       "      <th>text</th>\n",
       "    </tr>\n",
       "  </thead>\n",
       "  <tbody>\n",
       "    <tr>\n",
       "      <th>4997</th>\n",
       "      <td>Bing Crosby</td>\n",
       "      <td>A Faded Summer Love</td>\n",
       "      <td>You left today but you didn't say goodbye  \\r\\...</td>\n",
       "    </tr>\n",
       "    <tr>\n",
       "      <th>4998</th>\n",
       "      <td>ABBA</td>\n",
       "      <td>Lay All Your Love On Me</td>\n",
       "      <td>I wasn't jealous before we met  \\r\\nNow every ...</td>\n",
       "    </tr>\n",
       "    <tr>\n",
       "      <th>4999</th>\n",
       "      <td>The Killers</td>\n",
       "      <td>Are We Human</td>\n",
       "      <td>I did my best to notice, when the call came do...</td>\n",
       "    </tr>\n",
       "  </tbody>\n",
       "</table>\n",
       "</div>"
      ],
      "text/plain": [
       "           artist                     song  \\\n",
       "4997  Bing Crosby      A Faded Summer Love   \n",
       "4998         ABBA  Lay All Your Love On Me   \n",
       "4999  The Killers             Are We Human   \n",
       "\n",
       "                                                   text  \n",
       "4997  You left today but you didn't say goodbye  \\r\\...  \n",
       "4998  I wasn't jealous before we met  \\r\\nNow every ...  \n",
       "4999  I did my best to notice, when the call came do...  "
      ]
     },
     "execution_count": 151,
     "metadata": {},
     "output_type": "execute_result"
    }
   ],
   "source": [
    "s_data.tail(3)"
   ]
  },
  {
   "cell_type": "code",
   "execution_count": 152,
   "id": "81ba5c63-50ba-46ec-9305-66ce5acd44fc",
   "metadata": {},
   "outputs": [
    {
     "data": {
      "text/plain": [
       "\"Sit alone, waiting on the morning  \\r\\nWoman leaving her whole life behind  \\r\\ntrain rolling on, taking mama's baby home  \\r\\nno one knows what's going through her mind  \\r\\n  \\r\\nJust another love song I'm singing  \\r\\nAnd you know people sing them all of the time  \\r\\nJust another lonesome guitar ringing  \\r\\nThe only difference is this one is mine  \\r\\n  \\r\\nFreedom, Lord what a funny word  \\r\\nWe search for it just like some kind of fool  \\r\\nWoman leaving home, man sit's there all alone  \\r\\nLittle child is paying all the dues\\r\\n\\r\\n\""
      ]
     },
     "execution_count": 152,
     "metadata": {},
     "output_type": "execute_result"
    }
   ],
   "source": [
    "s_data['text'][576]"
   ]
  },
  {
   "cell_type": "code",
   "execution_count": 153,
   "id": "72b9aef1-5018-4b5a-b0e5-cd9bba2138f8",
   "metadata": {},
   "outputs": [
    {
     "data": {
      "text/plain": [
       "(5000, 3)"
      ]
     },
     "execution_count": 153,
     "metadata": {},
     "output_type": "execute_result"
    }
   ],
   "source": [
    "df = s_data.sample(5000)\n",
    "df.shape"
   ]
  },
  {
   "cell_type": "markdown",
   "id": "06114dc6-ed8a-4a26-bf25-1ebb89555636",
   "metadata": {},
   "source": [
    "# text-cleaning and text processing"
   ]
  },
  {
   "cell_type": "code",
   "execution_count": 154,
   "id": "06f51378-8c22-4998-becf-b569a667a18f",
   "metadata": {},
   "outputs": [
    {
     "data": {
      "text/html": [
       "<div>\n",
       "<style scoped>\n",
       "    .dataframe tbody tr th:only-of-type {\n",
       "        vertical-align: middle;\n",
       "    }\n",
       "\n",
       "    .dataframe tbody tr th {\n",
       "        vertical-align: top;\n",
       "    }\n",
       "\n",
       "    .dataframe thead th {\n",
       "        text-align: right;\n",
       "    }\n",
       "</style>\n",
       "<table border=\"1\" class=\"dataframe\">\n",
       "  <thead>\n",
       "    <tr style=\"text-align: right;\">\n",
       "      <th></th>\n",
       "      <th>artist</th>\n",
       "      <th>song</th>\n",
       "      <th>text</th>\n",
       "    </tr>\n",
       "  </thead>\n",
       "  <tbody>\n",
       "    <tr>\n",
       "      <th>2726</th>\n",
       "      <td>Frank Zappa</td>\n",
       "      <td>Diptheria Blues</td>\n",
       "      <td>(m. o. i)  \\r\\n  \\r\\n[tully gymnasium, florida...</td>\n",
       "    </tr>\n",
       "    <tr>\n",
       "      <th>2310</th>\n",
       "      <td>Train</td>\n",
       "      <td>I'm Not Waiting In Line</td>\n",
       "      <td>it's clear to see that you're down to earth  \\...</td>\n",
       "    </tr>\n",
       "    <tr>\n",
       "      <th>1304</th>\n",
       "      <td>Slayer</td>\n",
       "      <td>Point</td>\n",
       "      <td>i'm the one that brings you war  \\r\\ninfiltrat...</td>\n",
       "    </tr>\n",
       "  </tbody>\n",
       "</table>\n",
       "</div>"
      ],
      "text/plain": [
       "           artist                     song  \\\n",
       "2726  Frank Zappa          Diptheria Blues   \n",
       "2310        Train  I'm Not Waiting In Line   \n",
       "1304       Slayer                    Point   \n",
       "\n",
       "                                                   text  \n",
       "2726  (m. o. i)  \\r\\n  \\r\\n[tully gymnasium, florida...  \n",
       "2310  it's clear to see that you're down to earth  \\...  \n",
       "1304  i'm the one that brings you war  \\r\\ninfiltrat...  "
      ]
     },
     "execution_count": 154,
     "metadata": {},
     "output_type": "execute_result"
    }
   ],
   "source": [
    "df['text'] = df['text'].str.lower().replace(r'^\\w\\s',' ').replace(r'^\\n',' ',regex=True)\n",
    "df.head(3)"
   ]
  },
  {
   "cell_type": "code",
   "execution_count": 155,
   "id": "3e94495b-ba7c-4ac2-8ff4-eecc0c12743d",
   "metadata": {},
   "outputs": [],
   "source": [
    "import nltk\n",
    "from nltk.stem.porter import PorterStemmer"
   ]
  },
  {
   "cell_type": "code",
   "execution_count": 156,
   "id": "98936bbc-ceca-4fbb-a691-e1a611dbd058",
   "metadata": {},
   "outputs": [],
   "source": [
    "stemmer = PorterStemmer()"
   ]
  },
  {
   "cell_type": "code",
   "execution_count": 157,
   "id": "c40a9fd0-4525-4410-822f-6e13db8ed5f3",
   "metadata": {},
   "outputs": [],
   "source": [
    "def token(txt):\n",
    "    token = nltk.word_tokenize(txt)\n",
    "    a = [stemmer.stem(w) for w in token]\n",
    "    return \" \".join(a)"
   ]
  },
  {
   "cell_type": "code",
   "execution_count": 158,
   "id": "68c0429d-d6f0-428e-941f-0dd29e5af623",
   "metadata": {},
   "outputs": [
    {
     "data": {
      "text/plain": [
       "'khade is handsom'"
      ]
     },
     "execution_count": 158,
     "metadata": {},
     "output_type": "execute_result"
    }
   ],
   "source": [
    "token('khadee is handsome')"
   ]
  },
  {
   "cell_type": "code",
   "execution_count": 159,
   "id": "021e9535-4e88-4f9c-86e5-2560f0783ad0",
   "metadata": {},
   "outputs": [
    {
     "data": {
      "text/plain": [
       "2726    ( m. o. i ) [ tulli gymnasium , florida state ...\n",
       "2310    it 's clear to see that you 're down to earth ...\n",
       "1304    i 'm the one that bring you war infiltr unguar...\n",
       "964     i got a girlfriend onli she do n't know it yet...\n",
       "4562    doe she love me , with all her heart should i ...\n",
       "                              ...                        \n",
       "3162    there 's someth in the way she move , or look ...\n",
       "762     it do n't hurt anymor all my teardrop are dri ...\n",
       "3688    mama , whi did you do it ? mama , who drove yo...\n",
       "1836    vers 1 : is thi the end is thi all that 's lef...\n",
       "1425    i take you out all over town but you alway sta...\n",
       "Name: text, Length: 5000, dtype: object"
      ]
     },
     "execution_count": 159,
     "metadata": {},
     "output_type": "execute_result"
    }
   ],
   "source": [
    "df['text'].apply(lambda x:token(x))"
   ]
  },
  {
   "cell_type": "code",
   "execution_count": 160,
   "id": "64f28ef9-e818-4162-b51c-5c430999e494",
   "metadata": {},
   "outputs": [],
   "source": [
    "from sklearn.feature_extraction.text import TfidfVectorizer\n",
    "from sklearn.metrics.pairwise import cosine_similarity"
   ]
  },
  {
   "cell_type": "code",
   "execution_count": 161,
   "id": "89bd0ffe-52b7-4233-b7c3-9341a48edf68",
   "metadata": {},
   "outputs": [],
   "source": [
    "tf = TfidfVectorizer(analyzer='word',stop_words='english')\n",
    "m = tf.fit_transform(df['text'])"
   ]
  },
  {
   "cell_type": "code",
   "execution_count": 162,
   "id": "e30ff397-a9d6-4e2a-bf61-c1d1180d1fb7",
   "metadata": {},
   "outputs": [],
   "source": [
    "c = cosine_similarity(m)"
   ]
  },
  {
   "cell_type": "code",
   "execution_count": 163,
   "id": "48def555-4e38-4afc-a45e-c73a08fc55c4",
   "metadata": {},
   "outputs": [
    {
     "data": {
      "text/plain": [
       "array([1.        , 0.01774789, 0.0064825 , ..., 0.02672314, 0.01577754,\n",
       "       0.01363156])"
      ]
     },
     "execution_count": 163,
     "metadata": {},
     "output_type": "execute_result"
    }
   ],
   "source": [
    "c[0]"
   ]
  },
  {
   "cell_type": "code",
   "execution_count": 165,
   "id": "7789392b-791f-4193-a9fc-f84547adcc7d",
   "metadata": {},
   "outputs": [
    {
     "data": {
      "text/plain": [
       "2726"
      ]
     },
     "execution_count": 165,
     "metadata": {},
     "output_type": "execute_result"
    }
   ],
   "source": [
    "df[df['song'] == 'Diptheria Blues'].index[0]"
   ]
  },
  {
   "cell_type": "code",
   "execution_count": 180,
   "id": "67d5fc8d-c1ea-4a62-b063-2125fc8b5212",
   "metadata": {},
   "outputs": [],
   "source": [
    "def recommender(sel_song):\n",
    "    idx = df[df['song'] == sel_song].index[0]\n",
    "    so = sorted(list(enumerate(c[idx])),reverse=True,key = lambda x:x[1])\n",
    "    song = []\n",
    "    for w in so[1:31]:\n",
    "        song.append(df.iloc[w[0]].song +'/n')\n",
    "    return song"
   ]
  },
  {
   "cell_type": "code",
   "execution_count": 181,
   "id": "8d8d9eb7-bf9c-4501-9265-452984ab33fa",
   "metadata": {},
   "outputs": [
    {
     "data": {
      "text/plain": [
       "['The Art Of Letting Go/n',\n",
       " 'Still The One/n',\n",
       " 'More Than Words/n',\n",
       " 'If You Love Me/n',\n",
       " 'Love You So/n',\n",
       " 'Who Do You Love?/n',\n",
       " 'For You To Love/n',\n",
       " 'Love Is All Around/n',\n",
       " 'The Ghost Psalm/n',\n",
       " \"Promise Me You'll Try/n\",\n",
       " 'Out Of Control/n',\n",
       " 'All You Need Is Love/n',\n",
       " 'Anyone Who Had A Heart/n',\n",
       " 'I Love You Goodbye/n',\n",
       " 'Our Love/n',\n",
       " 'Broken Promises/n',\n",
       " 'I Would Die For You/n',\n",
       " \"Don't Turn Around/n\",\n",
       " 'Love/n',\n",
       " 'Little Town Flirt/n',\n",
       " 'Endless Love/n',\n",
       " 'Love Me Like You Do/n',\n",
       " 'Love Is On The Way/n',\n",
       " 'What Is Love?/n',\n",
       " 'Face To Face/n',\n",
       " 'L-O-V-E/n',\n",
       " 'Love/n',\n",
       " 'You Mean More To Me/n',\n",
       " 'I Want To Know What Love Is/n',\n",
       " 'White Sun/n']"
      ]
     },
     "execution_count": 181,
     "metadata": {},
     "output_type": "execute_result"
    }
   ],
   "source": [
    "recommender('Diptheria Blues')"
   ]
  },
  {
   "cell_type": "code",
   "execution_count": 182,
   "id": "3a002d96-2a1d-4403-941b-aebe59ce8272",
   "metadata": {},
   "outputs": [],
   "source": [
    "import pickle\n"
   ]
  },
  {
   "cell_type": "code",
   "execution_count": 185,
   "id": "396c7469-533f-473c-a8d0-2ec39d0909f0",
   "metadata": {},
   "outputs": [],
   "source": [
    "pickle.dump(c,open('similarity.pkl','wb'))\n",
    "pickle.dump(df,open('df.pkl','wb'))"
   ]
  },
  {
   "cell_type": "code",
   "execution_count": 186,
   "id": "9f7d830f-769a-4425-bd36-447cd38e7d34",
   "metadata": {},
   "outputs": [
    {
     "data": {
      "text/html": [
       "<div>\n",
       "<style scoped>\n",
       "    .dataframe tbody tr th:only-of-type {\n",
       "        vertical-align: middle;\n",
       "    }\n",
       "\n",
       "    .dataframe tbody tr th {\n",
       "        vertical-align: top;\n",
       "    }\n",
       "\n",
       "    .dataframe thead th {\n",
       "        text-align: right;\n",
       "    }\n",
       "</style>\n",
       "<table border=\"1\" class=\"dataframe\">\n",
       "  <thead>\n",
       "    <tr style=\"text-align: right;\">\n",
       "      <th></th>\n",
       "      <th>artist</th>\n",
       "      <th>song</th>\n",
       "      <th>text</th>\n",
       "    </tr>\n",
       "  </thead>\n",
       "  <tbody>\n",
       "    <tr>\n",
       "      <th>2726</th>\n",
       "      <td>Frank Zappa</td>\n",
       "      <td>Diptheria Blues</td>\n",
       "      <td>(m. o. i)  \\r\\n  \\r\\n[tully gymnasium, florida...</td>\n",
       "    </tr>\n",
       "    <tr>\n",
       "      <th>2310</th>\n",
       "      <td>Train</td>\n",
       "      <td>I'm Not Waiting In Line</td>\n",
       "      <td>it's clear to see that you're down to earth  \\...</td>\n",
       "    </tr>\n",
       "    <tr>\n",
       "      <th>1304</th>\n",
       "      <td>Slayer</td>\n",
       "      <td>Point</td>\n",
       "      <td>i'm the one that brings you war  \\r\\ninfiltrat...</td>\n",
       "    </tr>\n",
       "    <tr>\n",
       "      <th>964</th>\n",
       "      <td>Zebrahead</td>\n",
       "      <td>Anthem</td>\n",
       "      <td>i got a girlfriend  \\r\\nonly she don't know it...</td>\n",
       "    </tr>\n",
       "    <tr>\n",
       "      <th>4562</th>\n",
       "      <td>Kenny Loggins</td>\n",
       "      <td>A Lover's Question</td>\n",
       "      <td>does she love me, with all her heart  \\r\\nshou...</td>\n",
       "    </tr>\n",
       "    <tr>\n",
       "      <th>...</th>\n",
       "      <td>...</td>\n",
       "      <td>...</td>\n",
       "      <td>...</td>\n",
       "    </tr>\n",
       "    <tr>\n",
       "      <th>3162</th>\n",
       "      <td>James Taylor</td>\n",
       "      <td>Something In The Way She Moves</td>\n",
       "      <td>there's something in the way she moves,  \\r\\no...</td>\n",
       "    </tr>\n",
       "    <tr>\n",
       "      <th>762</th>\n",
       "      <td>Hank Snow</td>\n",
       "      <td>I Don't Hurt Anymore</td>\n",
       "      <td>it don't hurt anymore  \\r\\nall my teardrops ar...</td>\n",
       "    </tr>\n",
       "    <tr>\n",
       "      <th>3688</th>\n",
       "      <td>Morrissey</td>\n",
       "      <td>Mama Lay Softly On The Riverbed</td>\n",
       "      <td>mama, why did you do it?  \\r\\nmama, who drove ...</td>\n",
       "    </tr>\n",
       "    <tr>\n",
       "      <th>1836</th>\n",
       "      <td>Indiana Bible College</td>\n",
       "      <td>Void</td>\n",
       "      <td>verse 1:  \\r\\n  \\r\\nis this the end is this al...</td>\n",
       "    </tr>\n",
       "    <tr>\n",
       "      <th>1425</th>\n",
       "      <td>Cat Stevens</td>\n",
       "      <td>Come On And Dance</td>\n",
       "      <td>i take you out all over town  \\r\\nbut you alwa...</td>\n",
       "    </tr>\n",
       "  </tbody>\n",
       "</table>\n",
       "<p>5000 rows × 3 columns</p>\n",
       "</div>"
      ],
      "text/plain": [
       "                     artist                             song  \\\n",
       "2726            Frank Zappa                  Diptheria Blues   \n",
       "2310                  Train          I'm Not Waiting In Line   \n",
       "1304                 Slayer                            Point   \n",
       "964               Zebrahead                           Anthem   \n",
       "4562          Kenny Loggins               A Lover's Question   \n",
       "...                     ...                              ...   \n",
       "3162           James Taylor   Something In The Way She Moves   \n",
       "762               Hank Snow             I Don't Hurt Anymore   \n",
       "3688              Morrissey  Mama Lay Softly On The Riverbed   \n",
       "1836  Indiana Bible College                             Void   \n",
       "1425            Cat Stevens                Come On And Dance   \n",
       "\n",
       "                                                   text  \n",
       "2726  (m. o. i)  \\r\\n  \\r\\n[tully gymnasium, florida...  \n",
       "2310  it's clear to see that you're down to earth  \\...  \n",
       "1304  i'm the one that brings you war  \\r\\ninfiltrat...  \n",
       "964   i got a girlfriend  \\r\\nonly she don't know it...  \n",
       "4562  does she love me, with all her heart  \\r\\nshou...  \n",
       "...                                                 ...  \n",
       "3162  there's something in the way she moves,  \\r\\no...  \n",
       "762   it don't hurt anymore  \\r\\nall my teardrops ar...  \n",
       "3688  mama, why did you do it?  \\r\\nmama, who drove ...  \n",
       "1836  verse 1:  \\r\\n  \\r\\nis this the end is this al...  \n",
       "1425  i take you out all over town  \\r\\nbut you alwa...  \n",
       "\n",
       "[5000 rows x 3 columns]"
      ]
     },
     "execution_count": 186,
     "metadata": {},
     "output_type": "execute_result"
    }
   ],
   "source": [
    "pickle.load(open('df.pkl','rb'))"
   ]
  }
 ],
 "metadata": {
  "kernelspec": {
   "display_name": "Python 3 (ipykernel)",
   "language": "python",
   "name": "python3"
  },
  "language_info": {
   "codemirror_mode": {
    "name": "ipython",
    "version": 3
   },
   "file_extension": ".py",
   "mimetype": "text/x-python",
   "name": "python",
   "nbconvert_exporter": "python",
   "pygments_lexer": "ipython3",
   "version": "3.12.4"
  }
 },
 "nbformat": 4,
 "nbformat_minor": 5
}
